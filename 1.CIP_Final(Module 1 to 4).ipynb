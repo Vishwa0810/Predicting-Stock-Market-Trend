{
 "cells": [
  {
   "cell_type": "markdown",
   "metadata": {},
   "source": [
    "# Module1"
   ]
  },
  {
   "cell_type": "code",
   "execution_count": 1,
   "metadata": {},
   "outputs": [],
   "source": [
    "# Importing the libraries\n",
    "import numpy as np\n",
    "import matplotlib.pyplot as plt\n",
    "import pandas as pd\n",
    "import datetime\n",
    "import csv"
   ]
  },
  {
   "cell_type": "code",
   "execution_count": 2,
   "metadata": {},
   "outputs": [],
   "source": [
    "data_set = pd.read_csv('AAPL_Training.csv',index_col=\"Date\",parse_dates=True)"
   ]
  },
  {
   "cell_type": "code",
   "execution_count": 3,
   "metadata": {},
   "outputs": [
    {
     "data": {
      "text/html": [
       "<div>\n",
       "<style scoped>\n",
       "    .dataframe tbody tr th:only-of-type {\n",
       "        vertical-align: middle;\n",
       "    }\n",
       "\n",
       "    .dataframe tbody tr th {\n",
       "        vertical-align: top;\n",
       "    }\n",
       "\n",
       "    .dataframe thead th {\n",
       "        text-align: right;\n",
       "    }\n",
       "</style>\n",
       "<table border=\"1\" class=\"dataframe\">\n",
       "  <thead>\n",
       "    <tr style=\"text-align: right;\">\n",
       "      <th></th>\n",
       "      <th>Open</th>\n",
       "      <th>High</th>\n",
       "      <th>Low</th>\n",
       "      <th>Close</th>\n",
       "      <th>Adj Close</th>\n",
       "      <th>Volume</th>\n",
       "    </tr>\n",
       "    <tr>\n",
       "      <th>Date</th>\n",
       "      <th></th>\n",
       "      <th></th>\n",
       "      <th></th>\n",
       "      <th></th>\n",
       "      <th></th>\n",
       "      <th></th>\n",
       "    </tr>\n",
       "  </thead>\n",
       "  <tbody>\n",
       "    <tr>\n",
       "      <th>2001-01-02</th>\n",
       "      <td>0.265625</td>\n",
       "      <td>0.272321</td>\n",
       "      <td>0.260045</td>\n",
       "      <td>0.265625</td>\n",
       "      <td>0.228800</td>\n",
       "      <td>452312000</td>\n",
       "    </tr>\n",
       "    <tr>\n",
       "      <th>2001-01-03</th>\n",
       "      <td>0.258929</td>\n",
       "      <td>0.297991</td>\n",
       "      <td>0.257813</td>\n",
       "      <td>0.292411</td>\n",
       "      <td>0.251872</td>\n",
       "      <td>817073600</td>\n",
       "    </tr>\n",
       "    <tr>\n",
       "      <th>2001-01-04</th>\n",
       "      <td>0.323940</td>\n",
       "      <td>0.330357</td>\n",
       "      <td>0.300223</td>\n",
       "      <td>0.304688</td>\n",
       "      <td>0.262447</td>\n",
       "      <td>739396000</td>\n",
       "    </tr>\n",
       "    <tr>\n",
       "      <th>2001-01-05</th>\n",
       "      <td>0.302455</td>\n",
       "      <td>0.310268</td>\n",
       "      <td>0.286830</td>\n",
       "      <td>0.292411</td>\n",
       "      <td>0.251872</td>\n",
       "      <td>412356000</td>\n",
       "    </tr>\n",
       "    <tr>\n",
       "      <th>2001-01-08</th>\n",
       "      <td>0.302455</td>\n",
       "      <td>0.303292</td>\n",
       "      <td>0.284598</td>\n",
       "      <td>0.295759</td>\n",
       "      <td>0.254756</td>\n",
       "      <td>373699200</td>\n",
       "    </tr>\n",
       "  </tbody>\n",
       "</table>\n",
       "</div>"
      ],
      "text/plain": [
       "                Open      High       Low     Close  Adj Close     Volume\n",
       "Date                                                                    \n",
       "2001-01-02  0.265625  0.272321  0.260045  0.265625   0.228800  452312000\n",
       "2001-01-03  0.258929  0.297991  0.257813  0.292411   0.251872  817073600\n",
       "2001-01-04  0.323940  0.330357  0.300223  0.304688   0.262447  739396000\n",
       "2001-01-05  0.302455  0.310268  0.286830  0.292411   0.251872  412356000\n",
       "2001-01-08  0.302455  0.303292  0.284598  0.295759   0.254756  373699200"
      ]
     },
     "execution_count": 3,
     "metadata": {},
     "output_type": "execute_result"
    }
   ],
   "source": [
    "data_set.head()"
   ]
  },
  {
   "cell_type": "code",
   "execution_count": 51,
   "metadata": {},
   "outputs": [
    {
     "name": "stdout",
     "output_type": "stream",
     "text": [
      "<class 'pandas.core.frame.DataFrame'>\n",
      "DatetimeIndex: 5070 entries, 2001-01-02 to 2021-02-26\n",
      "Data columns (total 6 columns):\n",
      "Open         5070 non-null float64\n",
      "High         5070 non-null float64\n",
      "Low          5070 non-null float64\n",
      "Close        5070 non-null float64\n",
      "Adj Close    5070 non-null float64\n",
      "Volume       5070 non-null int64\n",
      "dtypes: float64(5), int64(1)\n",
      "memory usage: 277.3 KB\n"
     ]
    }
   ],
   "source": [
    "data_set.info()"
   ]
  },
  {
   "cell_type": "code",
   "execution_count": 4,
   "metadata": {},
   "outputs": [
    {
     "data": {
      "text/plain": [
       "Open         False\n",
       "High         False\n",
       "Low          False\n",
       "Close        False\n",
       "Adj Close    False\n",
       "Volume       False\n",
       "dtype: bool"
      ]
     },
     "execution_count": 4,
     "metadata": {},
     "output_type": "execute_result"
    }
   ],
   "source": [
    "data_set.isna().any()"
   ]
  },
  {
   "cell_type": "code",
   "execution_count": 7,
   "metadata": {},
   "outputs": [],
   "source": [
    "# open input CSV file as source\n",
    "# open output CSV file as result\n",
    "with open(\"AAPL_Training.csv\", \"r\") as source:\n",
    "    reader = csv.reader(source)\n",
    "        \n",
    "    with open(\"AAPL_Training_Extracted.csv\", \"w\") as result:\n",
    "        writer = csv.writer(result)\n",
    "        for r in reader:\n",
    "                \n",
    "            # Use CSV Index to remove a column from CSV\n",
    "            #r[3] = r['year']\n",
    "            writer.writerow((r[0], r[1], r[2], r[3], r[4], r[6]))"
   ]
  },
  {
   "cell_type": "code",
   "execution_count": 8,
   "metadata": {},
   "outputs": [],
   "source": [
    "dataset = pd.read_csv('AAPL_Training_Extracted.csv',index_col=\"Date\",parse_dates=True)"
   ]
  },
  {
   "cell_type": "code",
   "execution_count": 9,
   "metadata": {},
   "outputs": [
    {
     "name": "stdout",
     "output_type": "stream",
     "text": [
      "<class 'pandas.core.frame.DataFrame'>\n",
      "DatetimeIndex: 5070 entries, 2001-01-02 to 2021-02-26\n",
      "Data columns (total 5 columns):\n",
      "Open      5070 non-null float64\n",
      "High      5070 non-null float64\n",
      "Low       5070 non-null float64\n",
      "Close     5070 non-null float64\n",
      "Volume    5070 non-null int64\n",
      "dtypes: float64(4), int64(1)\n",
      "memory usage: 237.7 KB\n"
     ]
    }
   ],
   "source": [
    "dataset.info()"
   ]
  },
  {
   "cell_type": "code",
   "execution_count": 52,
   "metadata": {},
   "outputs": [
    {
     "data": {
      "text/html": [
       "<div>\n",
       "<style scoped>\n",
       "    .dataframe tbody tr th:only-of-type {\n",
       "        vertical-align: middle;\n",
       "    }\n",
       "\n",
       "    .dataframe tbody tr th {\n",
       "        vertical-align: top;\n",
       "    }\n",
       "\n",
       "    .dataframe thead th {\n",
       "        text-align: right;\n",
       "    }\n",
       "</style>\n",
       "<table border=\"1\" class=\"dataframe\">\n",
       "  <thead>\n",
       "    <tr style=\"text-align: right;\">\n",
       "      <th></th>\n",
       "      <th>Open</th>\n",
       "      <th>High</th>\n",
       "      <th>Low</th>\n",
       "      <th>Close</th>\n",
       "      <th>Volume</th>\n",
       "      <th>Close: 30 Day Mean</th>\n",
       "    </tr>\n",
       "    <tr>\n",
       "      <th>Date</th>\n",
       "      <th></th>\n",
       "      <th></th>\n",
       "      <th></th>\n",
       "      <th></th>\n",
       "      <th></th>\n",
       "      <th></th>\n",
       "    </tr>\n",
       "  </thead>\n",
       "  <tbody>\n",
       "    <tr>\n",
       "      <th>2001-01-02</th>\n",
       "      <td>0.265625</td>\n",
       "      <td>0.272321</td>\n",
       "      <td>0.260045</td>\n",
       "      <td>0.265625</td>\n",
       "      <td>452312000.0</td>\n",
       "      <td>NaN</td>\n",
       "    </tr>\n",
       "    <tr>\n",
       "      <th>2001-01-03</th>\n",
       "      <td>0.258929</td>\n",
       "      <td>0.297991</td>\n",
       "      <td>0.257813</td>\n",
       "      <td>0.292411</td>\n",
       "      <td>817073600.0</td>\n",
       "      <td>NaN</td>\n",
       "    </tr>\n",
       "    <tr>\n",
       "      <th>2001-01-04</th>\n",
       "      <td>0.323940</td>\n",
       "      <td>0.330357</td>\n",
       "      <td>0.300223</td>\n",
       "      <td>0.304688</td>\n",
       "      <td>739396000.0</td>\n",
       "      <td>NaN</td>\n",
       "    </tr>\n",
       "    <tr>\n",
       "      <th>2001-01-05</th>\n",
       "      <td>0.302455</td>\n",
       "      <td>0.310268</td>\n",
       "      <td>0.286830</td>\n",
       "      <td>0.292411</td>\n",
       "      <td>412356000.0</td>\n",
       "      <td>NaN</td>\n",
       "    </tr>\n",
       "    <tr>\n",
       "      <th>2001-01-08</th>\n",
       "      <td>0.302455</td>\n",
       "      <td>0.303292</td>\n",
       "      <td>0.284598</td>\n",
       "      <td>0.295759</td>\n",
       "      <td>373699200.0</td>\n",
       "      <td>NaN</td>\n",
       "    </tr>\n",
       "  </tbody>\n",
       "</table>\n",
       "</div>"
      ],
      "text/plain": [
       "                Open      High       Low     Close       Volume  \\\n",
       "Date                                                              \n",
       "2001-01-02  0.265625  0.272321  0.260045  0.265625  452312000.0   \n",
       "2001-01-03  0.258929  0.297991  0.257813  0.292411  817073600.0   \n",
       "2001-01-04  0.323940  0.330357  0.300223  0.304688  739396000.0   \n",
       "2001-01-05  0.302455  0.310268  0.286830  0.292411  412356000.0   \n",
       "2001-01-08  0.302455  0.303292  0.284598  0.295759  373699200.0   \n",
       "\n",
       "            Close: 30 Day Mean  \n",
       "Date                            \n",
       "2001-01-02                 NaN  \n",
       "2001-01-03                 NaN  \n",
       "2001-01-04                 NaN  \n",
       "2001-01-05                 NaN  \n",
       "2001-01-08                 NaN  "
      ]
     },
     "execution_count": 52,
     "metadata": {},
     "output_type": "execute_result"
    }
   ],
   "source": [
    "dataset.head()"
   ]
  },
  {
   "cell_type": "code",
   "execution_count": 10,
   "metadata": {},
   "outputs": [
    {
     "data": {
      "text/plain": [
       "<matplotlib.axes._subplots.AxesSubplot at 0x1c2532ff780>"
      ]
     },
     "execution_count": 10,
     "metadata": {},
     "output_type": "execute_result"
    },
    {
     "data": {
      "image/png": "[encoded data removed]",
      "text/plain": [
       "<Figure size 1152x432 with 1 Axes>"
      ]
     },
     "metadata": {
      "needs_background": "light"
     },
     "output_type": "display_data"
    }
   ],
   "source": [
    "dataset['Open'].plot(figsize=(16,6))"
   ]
  },
  {
   "cell_type": "code",
   "execution_count": 12,
   "metadata": {},
   "outputs": [],
   "source": [
    "dataset[\"Volume\"] = dataset[\"Volume\"].astype(str).str.replace(',', '').astype(float)"
   ]
  },
  {
   "cell_type": "code",
   "execution_count": 13,
   "metadata": {},
   "outputs": [
    {
     "name": "stdout",
     "output_type": "stream",
     "text": [
      "<class 'pandas.core.frame.DataFrame'>\n",
      "DatetimeIndex: 5070 entries, 2001-01-02 to 2021-02-26\n",
      "Data columns (total 5 columns):\n",
      "Open      5070 non-null float64\n",
      "High      5070 non-null float64\n",
      "Low       5070 non-null float64\n",
      "Close     5070 non-null float64\n",
      "Volume    5070 non-null float64\n",
      "dtypes: float64(5)\n",
      "memory usage: 237.7 KB\n"
     ]
    }
   ],
   "source": [
    "dataset.info()"
   ]
  },
  {
   "cell_type": "markdown",
   "metadata": {},
   "source": [
    "# Module2"
   ]
  },
  {
   "cell_type": "code",
   "execution_count": 19,
   "metadata": {},
   "outputs": [],
   "source": [
    "training_set=dataset['Open']\n",
    "training_set=pd.DataFrame(training_set)\n"
   ]
  },
  {
   "cell_type": "code",
   "execution_count": 20,
   "metadata": {},
   "outputs": [],
   "source": [
    "# Feature Scaling\n",
    "from sklearn.preprocessing import MinMaxScaler\n",
    "sc = MinMaxScaler(feature_range = (0, 1))\n",
    "training_set_scaled = sc.fit_transform(training_set)"
   ]
  },
  {
   "cell_type": "code",
   "execution_count": 27,
   "metadata": {},
   "outputs": [],
   "source": [
    "# Creating a data structure with 60 timesteps and 1 output\n",
    "X_train = []\n",
    "y_train = []\n",
    "for i in range(60, 5070):\n",
    "    X_train.append(training_set_scaled[i-60:i, 0])\n",
    "    y_train.append(training_set_scaled[i, 0])\n",
    "X_train, y_train = np.array(X_train), np.array(y_train)\n",
    "\n",
    "# Reshaping\n",
    "X_train = np.reshape(X_train, (X_train.shape[0], X_train.shape[1], 1))"
   ]
  },
  {
   "cell_type": "markdown",
   "metadata": {},
   "source": [
    "# Module3"
   ]
  },
  {
   "cell_type": "code",
   "execution_count": 28,
   "metadata": {},
   "outputs": [],
   "source": [
    "# Part 2 - Building the RNN\n",
    "\n",
    "# Importing the Keras libraries and packages\n",
    "from keras.models import Sequential\n",
    "from keras.layers import Dense\n",
    "from keras.layers import LSTM\n",
    "from keras.layers import Dropout\n",
    "\n"
   ]
  },
  {
   "cell_type": "code",
   "execution_count": 29,
   "metadata": {},
   "outputs": [],
   "source": [
    "# Initialising the RNN\n",
    "regressor = Sequential()\n",
    "\n"
   ]
  },
  {
   "cell_type": "code",
   "execution_count": 30,
   "metadata": {},
   "outputs": [],
   "source": [
    "# Adding the first LSTM layer and some Dropout regularisation\n",
    "regressor.add(LSTM(units = 50, return_sequences = True, input_shape = (X_train.shape[1], 1)))\n",
    "regressor.add(Dropout(0.2))\n",
    "\n",
    "# Adding a second LSTM layer and some Dropout regularisation\n",
    "regressor.add(LSTM(units = 50, return_sequences = True))\n",
    "regressor.add(Dropout(0.2))\n",
    "\n",
    "# Adding a third LSTM layer and some Dropout regularisation\n",
    "regressor.add(LSTM(units = 50, return_sequences = True))\n",
    "regressor.add(Dropout(0.2))\n",
    "\n",
    "# Adding a fourth LSTM layer and some Dropout regularisation\n",
    "regressor.add(LSTM(units = 50))\n",
    "regressor.add(Dropout(0.2))\n",
    "\n",
    "# Adding the output layer\n",
    "regressor.add(Dense(units = 1))\n",
    "\n"
   ]
  },
  {
   "cell_type": "code",
   "execution_count": 31,
   "metadata": {},
   "outputs": [
    {
     "name": "stdout",
     "output_type": "stream",
     "text": [
      "Epoch 1/100\n",
      "5010/5010 [==============================] - 40s 8ms/step - loss: 0.0029\n",
      "Epoch 2/100\n",
      "5010/5010 [==============================] - 39s 8ms/step - loss: 0.0010\n",
      "Epoch 3/100\n",
      "5010/5010 [==============================] - 39s 8ms/step - loss: 8.9118e-04\n",
      "Epoch 4/100\n",
      "5010/5010 [==============================] - 39s 8ms/step - loss: 7.5892e-04\n",
      "Epoch 5/100\n",
      "5010/5010 [==============================] - 40s 8ms/step - loss: 8.0301e-04\n",
      "Epoch 6/100\n",
      "5010/5010 [==============================] - 39s 8ms/step - loss: 7.5924e-04\n",
      "Epoch 7/100\n",
      "5010/5010 [==============================] - 39s 8ms/step - loss: 6.4471e-04\n",
      "Epoch 8/100\n",
      "5010/5010 [==============================] - 39s 8ms/step - loss: 5.9517e-04\n",
      "Epoch 9/100\n",
      "5010/5010 [==============================] - 40s 8ms/step - loss: 5.5615e-04\n",
      "Epoch 10/100\n",
      "5010/5010 [==============================] - 39s 8ms/step - loss: 5.2965e-04\n",
      "Epoch 11/100\n",
      "5010/5010 [==============================] - 42s 8ms/step - loss: 5.1649e-04\n",
      "Epoch 12/100\n",
      "5010/5010 [==============================] - 42s 8ms/step - loss: 6.1308e-04\n",
      "Epoch 13/100\n",
      "5010/5010 [==============================] - 39s 8ms/step - loss: 5.3849e-04\n",
      "Epoch 14/100\n",
      "5010/5010 [==============================] - 40s 8ms/step - loss: 5.9771e-04\n",
      "Epoch 15/100\n",
      "5010/5010 [==============================] - 41s 8ms/step - loss: 5.4696e-04\n",
      "Epoch 16/100\n",
      "5010/5010 [==============================] - 40s 8ms/step - loss: 4.2939e-04\n",
      "Epoch 17/100\n",
      "5010/5010 [==============================] - 40s 8ms/step - loss: 5.2634e-04\n",
      "Epoch 18/100\n",
      "5010/5010 [==============================] - 40s 8ms/step - loss: 4.5130e-04\n",
      "Epoch 19/100\n",
      "5010/5010 [==============================] - 42s 8ms/step - loss: 4.6807e-04\n",
      "Epoch 20/100\n",
      "5010/5010 [==============================] - 41s 8ms/step - loss: 4.4331e-04\n",
      "Epoch 21/100\n",
      "5010/5010 [==============================] - 42s 8ms/step - loss: 5.0944e-04\n",
      "Epoch 22/100\n",
      "5010/5010 [==============================] - 41s 8ms/step - loss: 4.5588e-04\n",
      "Epoch 23/100\n",
      "5010/5010 [==============================] - 41s 8ms/step - loss: 4.2381e-04\n",
      "Epoch 24/100\n",
      "5010/5010 [==============================] - 41s 8ms/step - loss: 4.3855e-04\n",
      "Epoch 25/100\n",
      "5010/5010 [==============================] - 42s 8ms/step - loss: 5.1819e-04\n",
      "Epoch 26/100\n",
      "5010/5010 [==============================] - 42s 8ms/step - loss: 4.0444e-04\n",
      "Epoch 27/100\n",
      "5010/5010 [==============================] - 41s 8ms/step - loss: 3.9258e-04\n",
      "Epoch 28/100\n",
      "5010/5010 [==============================] - 41s 8ms/step - loss: 4.6347e-04\n",
      "Epoch 29/100\n",
      "5010/5010 [==============================] - 41s 8ms/step - loss: 4.6960e-04\n",
      "Epoch 30/100\n",
      "5010/5010 [==============================] - 41s 8ms/step - loss: 4.1179e-04\n",
      "Epoch 31/100\n",
      "5010/5010 [==============================] - 41s 8ms/step - loss: 4.5623e-04\n",
      "Epoch 32/100\n",
      "5010/5010 [==============================] - 41s 8ms/step - loss: 4.0571e-04\n",
      "Epoch 33/100\n",
      "5010/5010 [==============================] - 41s 8ms/step - loss: 3.8998e-04\n",
      "Epoch 34/100\n",
      "5010/5010 [==============================] - 42s 8ms/step - loss: 3.6920e-04\n",
      "Epoch 35/100\n",
      "5010/5010 [==============================] - 40s 8ms/step - loss: 3.8780e-04\n",
      "Epoch 36/100\n",
      "5010/5010 [==============================] - 42s 8ms/step - loss: 3.7934e-04\n",
      "Epoch 37/100\n",
      "5010/5010 [==============================] - 39s 8ms/step - loss: 3.7332e-04\n",
      "Epoch 38/100\n",
      "5010/5010 [==============================] - 42s 8ms/step - loss: 3.6709e-04\n",
      "Epoch 39/100\n",
      "5010/5010 [==============================] - 39s 8ms/step - loss: 3.5906e-04\n",
      "Epoch 40/100\n",
      "5010/5010 [==============================] - 41s 8ms/step - loss: 3.9858e-04\n",
      "Epoch 41/100\n",
      "5010/5010 [==============================] - 39s 8ms/step - loss: 3.4602e-04\n",
      "Epoch 42/100\n",
      "5010/5010 [==============================] - 42s 8ms/step - loss: 4.1193e-04\n",
      "Epoch 43/100\n",
      "5010/5010 [==============================] - 41s 8ms/step - loss: 4.1423e-04\n",
      "Epoch 44/100\n",
      "5010/5010 [==============================] - 41s 8ms/step - loss: 4.0225e-04\n",
      "Epoch 45/100\n",
      "5010/5010 [==============================] - 40s 8ms/step - loss: 4.4792e-04\n",
      "Epoch 46/100\n",
      "5010/5010 [==============================] - 41s 8ms/step - loss: 4.0205e-04\n",
      "Epoch 47/100\n",
      "5010/5010 [==============================] - 40s 8ms/step - loss: 4.7479e-04\n",
      "Epoch 48/100\n",
      "5010/5010 [==============================] - 40s 8ms/step - loss: 4.0041e-04\n",
      "Epoch 49/100\n",
      "5010/5010 [==============================] - 40s 8ms/step - loss: 3.8028e-04\n",
      "Epoch 50/100\n",
      "5010/5010 [==============================] - 41s 8ms/step - loss: 4.3679e-04\n",
      "Epoch 51/100\n",
      "5010/5010 [==============================] - 40s 8ms/step - loss: 3.6953e-04\n",
      "Epoch 52/100\n",
      "5010/5010 [==============================] - 41s 8ms/step - loss: 4.0897e-04\n",
      "Epoch 53/100\n",
      "5010/5010 [==============================] - 39s 8ms/step - loss: 3.9754e-04\n",
      "Epoch 54/100\n",
      "5010/5010 [==============================] - 41s 8ms/step - loss: 3.3745e-04\n",
      "Epoch 55/100\n",
      "5010/5010 [==============================] - 40s 8ms/step - loss: 3.7884e-04\n",
      "Epoch 56/100\n",
      "5010/5010 [==============================] - 44s 9ms/step - loss: 3.5819e-04\n",
      "Epoch 57/100\n",
      "5010/5010 [==============================] - 43s 9ms/step - loss: 3.7558e-04\n",
      "Epoch 58/100\n",
      "5010/5010 [==============================] - 46s 9ms/step - loss: 3.3830e-04\n",
      "Epoch 59/100\n",
      "5010/5010 [==============================] - 43s 9ms/step - loss: 4.0724e-04\n",
      "Epoch 60/100\n",
      "5010/5010 [==============================] - 47s 9ms/step - loss: 3.6823e-04\n",
      "Epoch 61/100\n",
      "5010/5010 [==============================] - 49s 10ms/step - loss: 3.8676e-04\n",
      "Epoch 62/100\n",
      "5010/5010 [==============================] - 48s 10ms/step - loss: 3.7514e-04\n",
      "Epoch 63/100\n",
      "5010/5010 [==============================] - 54s 11ms/step - loss: 3.5883e-04\n",
      "Epoch 64/100\n",
      "5010/5010 [==============================] - 45s 9ms/step - loss: 4.0900e-04\n",
      "Epoch 65/100\n",
      "5010/5010 [==============================] - 55s 11ms/step - loss: 4.0545e-04\n",
      "Epoch 66/100\n",
      "5010/5010 [==============================] - 43s 9ms/step - loss: 3.8414e-04\n",
      "Epoch 67/100\n",
      "5010/5010 [==============================] - 41s 8ms/step - loss: 3.4430e-04\n",
      "Epoch 68/100\n",
      "5010/5010 [==============================] - 42s 8ms/step - loss: 3.4179e-04\n",
      "Epoch 69/100\n",
      "5010/5010 [==============================] - 41s 8ms/step - loss: 3.5361e-04\n",
      "Epoch 70/100\n",
      "5010/5010 [==============================] - 42s 8ms/step - loss: 3.9274e-04\n",
      "Epoch 71/100\n",
      "5010/5010 [==============================] - 40s 8ms/step - loss: 3.7055e-04\n",
      "Epoch 72/100\n",
      "5010/5010 [==============================] - 42s 8ms/step - loss: 3.8240e-04\n",
      "Epoch 73/100\n",
      "5010/5010 [==============================] - 43s 9ms/step - loss: 3.2222e-04\n",
      "Epoch 74/100\n",
      "5010/5010 [==============================] - 43s 9ms/step - loss: 3.6863e-04\n",
      "Epoch 75/100\n",
      "5010/5010 [==============================] - 39s 8ms/step - loss: 3.5507e-04\n",
      "Epoch 76/100\n",
      "5010/5010 [==============================] - 40s 8ms/step - loss: 3.5363e-04\n",
      "Epoch 77/100\n",
      "5010/5010 [==============================] - 39s 8ms/step - loss: 3.8383e-04\n",
      "Epoch 78/100\n",
      "5010/5010 [==============================] - 42s 8ms/step - loss: 4.3967e-04\n",
      "Epoch 79/100\n",
      "5010/5010 [==============================] - 40s 8ms/step - loss: 3.2265e-04\n",
      "Epoch 80/100\n",
      "5010/5010 [==============================] - 40s 8ms/step - loss: 3.4651e-04\n",
      "Epoch 81/100\n",
      "5010/5010 [==============================] - 41s 8ms/step - loss: 3.5093e-04\n",
      "Epoch 82/100\n",
      "5010/5010 [==============================] - 39s 8ms/step - loss: 3.2881e-04\n",
      "Epoch 83/100\n",
      "5010/5010 [==============================] - 41s 8ms/step - loss: 3.2645e-04\n",
      "Epoch 84/100\n",
      "5010/5010 [==============================] - 47s 9ms/step - loss: 3.3641e-04\n",
      "Epoch 85/100\n",
      "5010/5010 [==============================] - 51s 10ms/step - loss: 3.5139e-04\n",
      "Epoch 86/100\n",
      "5010/5010 [==============================] - 49s 10ms/step - loss: 3.2019e-04\n",
      "Epoch 87/100\n",
      "5010/5010 [==============================] - 48s 10ms/step - loss: 3.6564e-04\n",
      "Epoch 88/100\n",
      "5010/5010 [==============================] - 41s 8ms/step - loss: 3.2204e-04\n",
      "Epoch 89/100\n",
      "5010/5010 [==============================] - 41s 8ms/step - loss: 3.4457e-04\n",
      "Epoch 90/100\n",
      "5010/5010 [==============================] - 43s 8ms/step - loss: 3.1147e-04\n",
      "Epoch 91/100\n",
      "5010/5010 [==============================] - 51s 10ms/step - loss: 3.4243e-04\n",
      "Epoch 92/100\n"
     ]
    },
    {
     "name": "stdout",
     "output_type": "stream",
     "text": [
      "5010/5010 [==============================] - 44s 9ms/step - loss: 3.0992e-04\n",
      "Epoch 93/100\n",
      "5010/5010 [==============================] - 44s 9ms/step - loss: 3.8095e-04\n",
      "Epoch 94/100\n",
      "5010/5010 [==============================] - 40s 8ms/step - loss: 3.8766e-04\n",
      "Epoch 95/100\n",
      "5010/5010 [==============================] - 41s 8ms/step - loss: 3.2066e-04\n",
      "Epoch 96/100\n",
      "5010/5010 [==============================] - 40s 8ms/step - loss: 3.1215e-04\n",
      "Epoch 97/100\n",
      "5010/5010 [==============================] - 40s 8ms/step - loss: 3.3065e-04\n",
      "Epoch 98/100\n",
      "5010/5010 [==============================] - 38s 8ms/step - loss: 3.3353e-04\n",
      "Epoch 99/100\n",
      "5010/5010 [==============================] - 41s 8ms/step - loss: 3.2751e-04\n",
      "Epoch 100/100\n",
      "5010/5010 [==============================] - 40s 8ms/step - loss: 3.0773e-04\n"
     ]
    },
    {
     "data": {
      "text/plain": [
       "<keras.callbacks.callbacks.History at 0x1c2533e70b8>"
      ]
     },
     "execution_count": 31,
     "metadata": {},
     "output_type": "execute_result"
    }
   ],
   "source": [
    "# Compiling the RNN\n",
    "regressor.compile(optimizer = 'adam', loss = 'mean_squared_error')\n",
    "\n",
    "# Fitting the RNN to the Training set\n",
    "regressor.fit(X_train, y_train, epochs = 100, batch_size = 32)\n"
   ]
  },
  {
   "cell_type": "markdown",
   "metadata": {},
   "source": [
    "# Module4"
   ]
  },
  {
   "cell_type": "code",
   "execution_count": 32,
   "metadata": {},
   "outputs": [],
   "source": [
    "# Part 3 - Making the predictions and visualising the results\n",
    "\n",
    "data_set_test = pd.read_csv('AAPL_test.csv',index_col=\"Date\",parse_dates=True)"
   ]
  },
  {
   "cell_type": "code",
   "execution_count": 34,
   "metadata": {},
   "outputs": [
    {
     "data": {
      "text/html": [
       "<div>\n",
       "<style scoped>\n",
       "    .dataframe tbody tr th:only-of-type {\n",
       "        vertical-align: middle;\n",
       "    }\n",
       "\n",
       "    .dataframe tbody tr th {\n",
       "        vertical-align: top;\n",
       "    }\n",
       "\n",
       "    .dataframe thead th {\n",
       "        text-align: right;\n",
       "    }\n",
       "</style>\n",
       "<table border=\"1\" class=\"dataframe\">\n",
       "  <thead>\n",
       "    <tr style=\"text-align: right;\">\n",
       "      <th></th>\n",
       "      <th>Open</th>\n",
       "      <th>High</th>\n",
       "      <th>Low</th>\n",
       "      <th>Close</th>\n",
       "      <th>Adj Close</th>\n",
       "      <th>Volume</th>\n",
       "    </tr>\n",
       "    <tr>\n",
       "      <th>Date</th>\n",
       "      <th></th>\n",
       "      <th></th>\n",
       "      <th></th>\n",
       "      <th></th>\n",
       "      <th></th>\n",
       "      <th></th>\n",
       "    </tr>\n",
       "  </thead>\n",
       "  <tbody>\n",
       "    <tr>\n",
       "      <th>2021-03-01</th>\n",
       "      <td>123.750000</td>\n",
       "      <td>127.930000</td>\n",
       "      <td>122.790001</td>\n",
       "      <td>127.790001</td>\n",
       "      <td>127.790001</td>\n",
       "      <td>115998300</td>\n",
       "    </tr>\n",
       "    <tr>\n",
       "      <th>2021-03-02</th>\n",
       "      <td>128.410004</td>\n",
       "      <td>128.720001</td>\n",
       "      <td>125.010002</td>\n",
       "      <td>125.120003</td>\n",
       "      <td>125.120003</td>\n",
       "      <td>102015300</td>\n",
       "    </tr>\n",
       "    <tr>\n",
       "      <th>2021-03-03</th>\n",
       "      <td>124.809998</td>\n",
       "      <td>125.709999</td>\n",
       "      <td>121.839996</td>\n",
       "      <td>122.059998</td>\n",
       "      <td>122.059998</td>\n",
       "      <td>112430400</td>\n",
       "    </tr>\n",
       "    <tr>\n",
       "      <th>2021-03-04</th>\n",
       "      <td>121.750000</td>\n",
       "      <td>123.599998</td>\n",
       "      <td>118.620003</td>\n",
       "      <td>120.129997</td>\n",
       "      <td>120.129997</td>\n",
       "      <td>177275300</td>\n",
       "    </tr>\n",
       "    <tr>\n",
       "      <th>2021-03-05</th>\n",
       "      <td>120.980003</td>\n",
       "      <td>121.940002</td>\n",
       "      <td>117.570000</td>\n",
       "      <td>121.419998</td>\n",
       "      <td>121.419998</td>\n",
       "      <td>153590400</td>\n",
       "    </tr>\n",
       "  </tbody>\n",
       "</table>\n",
       "</div>"
      ],
      "text/plain": [
       "                  Open        High         Low       Close   Adj Close  \\\n",
       "Date                                                                     \n",
       "2021-03-01  123.750000  127.930000  122.790001  127.790001  127.790001   \n",
       "2021-03-02  128.410004  128.720001  125.010002  125.120003  125.120003   \n",
       "2021-03-03  124.809998  125.709999  121.839996  122.059998  122.059998   \n",
       "2021-03-04  121.750000  123.599998  118.620003  120.129997  120.129997   \n",
       "2021-03-05  120.980003  121.940002  117.570000  121.419998  121.419998   \n",
       "\n",
       "               Volume  \n",
       "Date                   \n",
       "2021-03-01  115998300  \n",
       "2021-03-02  102015300  \n",
       "2021-03-03  112430400  \n",
       "2021-03-04  177275300  \n",
       "2021-03-05  153590400  "
      ]
     },
     "execution_count": 34,
     "metadata": {},
     "output_type": "execute_result"
    }
   ],
   "source": [
    "data_set_test.head()"
   ]
  },
  {
   "cell_type": "code",
   "execution_count": 35,
   "metadata": {},
   "outputs": [
    {
     "name": "stdout",
     "output_type": "stream",
     "text": [
      "<class 'pandas.core.frame.DataFrame'>\n",
      "DatetimeIndex: 20 entries, 2021-03-01 to 2021-03-26\n",
      "Data columns (total 6 columns):\n",
      "Open         20 non-null float64\n",
      "High         20 non-null float64\n",
      "Low          20 non-null float64\n",
      "Close        20 non-null float64\n",
      "Adj Close    20 non-null float64\n",
      "Volume       20 non-null int64\n",
      "dtypes: float64(5), int64(1)\n",
      "memory usage: 1.1 KB\n"
     ]
    }
   ],
   "source": [
    "data_set_test.info()"
   ]
  },
  {
   "cell_type": "code",
   "execution_count": 36,
   "metadata": {},
   "outputs": [],
   "source": [
    "# open input CSV file as source\n",
    "# open output CSV file as result\n",
    "with open(\"AAPL_Test.csv\", \"r\") as source:\n",
    "    reader = csv.reader(source)\n",
    "        \n",
    "    with open(\"AAPL_Test_Extracted.csv\", \"w\") as result:\n",
    "        writer = csv.writer(result)\n",
    "        for r in reader:\n",
    "                \n",
    "            # Use CSV Index to remove a column from CSV\n",
    "            #r[3] = r['year']\n",
    "            writer.writerow((r[0], r[1], r[2], r[3], r[4], r[6]))\n"
   ]
  },
  {
   "cell_type": "code",
   "execution_count": 38,
   "metadata": {},
   "outputs": [],
   "source": [
    "dataset_test = pd.read_csv('AAPL_Test_Extracted.csv',index_col=\"Date\",parse_dates=True)"
   ]
  },
  {
   "cell_type": "code",
   "execution_count": 39,
   "metadata": {},
   "outputs": [
    {
     "data": {
      "text/html": [
       "<div>\n",
       "<style scoped>\n",
       "    .dataframe tbody tr th:only-of-type {\n",
       "        vertical-align: middle;\n",
       "    }\n",
       "\n",
       "    .dataframe tbody tr th {\n",
       "        vertical-align: top;\n",
       "    }\n",
       "\n",
       "    .dataframe thead th {\n",
       "        text-align: right;\n",
       "    }\n",
       "</style>\n",
       "<table border=\"1\" class=\"dataframe\">\n",
       "  <thead>\n",
       "    <tr style=\"text-align: right;\">\n",
       "      <th></th>\n",
       "      <th>Open</th>\n",
       "      <th>High</th>\n",
       "      <th>Low</th>\n",
       "      <th>Close</th>\n",
       "      <th>Volume</th>\n",
       "    </tr>\n",
       "    <tr>\n",
       "      <th>Date</th>\n",
       "      <th></th>\n",
       "      <th></th>\n",
       "      <th></th>\n",
       "      <th></th>\n",
       "      <th></th>\n",
       "    </tr>\n",
       "  </thead>\n",
       "  <tbody>\n",
       "    <tr>\n",
       "      <th>2021-03-01</th>\n",
       "      <td>123.750000</td>\n",
       "      <td>127.930000</td>\n",
       "      <td>122.790001</td>\n",
       "      <td>127.790001</td>\n",
       "      <td>115998300</td>\n",
       "    </tr>\n",
       "    <tr>\n",
       "      <th>2021-03-02</th>\n",
       "      <td>128.410004</td>\n",
       "      <td>128.720001</td>\n",
       "      <td>125.010002</td>\n",
       "      <td>125.120003</td>\n",
       "      <td>102015300</td>\n",
       "    </tr>\n",
       "    <tr>\n",
       "      <th>2021-03-03</th>\n",
       "      <td>124.809998</td>\n",
       "      <td>125.709999</td>\n",
       "      <td>121.839996</td>\n",
       "      <td>122.059998</td>\n",
       "      <td>112430400</td>\n",
       "    </tr>\n",
       "    <tr>\n",
       "      <th>2021-03-04</th>\n",
       "      <td>121.750000</td>\n",
       "      <td>123.599998</td>\n",
       "      <td>118.620003</td>\n",
       "      <td>120.129997</td>\n",
       "      <td>177275300</td>\n",
       "    </tr>\n",
       "    <tr>\n",
       "      <th>2021-03-05</th>\n",
       "      <td>120.980003</td>\n",
       "      <td>121.940002</td>\n",
       "      <td>117.570000</td>\n",
       "      <td>121.419998</td>\n",
       "      <td>153590400</td>\n",
       "    </tr>\n",
       "  </tbody>\n",
       "</table>\n",
       "</div>"
      ],
      "text/plain": [
       "                  Open        High         Low       Close     Volume\n",
       "Date                                                                 \n",
       "2021-03-01  123.750000  127.930000  122.790001  127.790001  115998300\n",
       "2021-03-02  128.410004  128.720001  125.010002  125.120003  102015300\n",
       "2021-03-03  124.809998  125.709999  121.839996  122.059998  112430400\n",
       "2021-03-04  121.750000  123.599998  118.620003  120.129997  177275300\n",
       "2021-03-05  120.980003  121.940002  117.570000  121.419998  153590400"
      ]
     },
     "execution_count": 39,
     "metadata": {},
     "output_type": "execute_result"
    }
   ],
   "source": [
    "dataset_test.head()"
   ]
  },
  {
   "cell_type": "code",
   "execution_count": 40,
   "metadata": {},
   "outputs": [],
   "source": [
    "real_stock_price = dataset_test.iloc[:, 1:2].values"
   ]
  },
  {
   "cell_type": "code",
   "execution_count": 41,
   "metadata": {},
   "outputs": [
    {
     "data": {
      "text/html": [
       "<div>\n",
       "<style scoped>\n",
       "    .dataframe tbody tr th:only-of-type {\n",
       "        vertical-align: middle;\n",
       "    }\n",
       "\n",
       "    .dataframe tbody tr th {\n",
       "        vertical-align: top;\n",
       "    }\n",
       "\n",
       "    .dataframe thead th {\n",
       "        text-align: right;\n",
       "    }\n",
       "</style>\n",
       "<table border=\"1\" class=\"dataframe\">\n",
       "  <thead>\n",
       "    <tr style=\"text-align: right;\">\n",
       "      <th></th>\n",
       "      <th>Open</th>\n",
       "      <th>High</th>\n",
       "      <th>Low</th>\n",
       "      <th>Close</th>\n",
       "      <th>Volume</th>\n",
       "    </tr>\n",
       "    <tr>\n",
       "      <th>Date</th>\n",
       "      <th></th>\n",
       "      <th></th>\n",
       "      <th></th>\n",
       "      <th></th>\n",
       "      <th></th>\n",
       "    </tr>\n",
       "  </thead>\n",
       "  <tbody>\n",
       "    <tr>\n",
       "      <th>2021-03-01</th>\n",
       "      <td>123.750000</td>\n",
       "      <td>127.930000</td>\n",
       "      <td>122.790001</td>\n",
       "      <td>127.790001</td>\n",
       "      <td>115998300</td>\n",
       "    </tr>\n",
       "    <tr>\n",
       "      <th>2021-03-02</th>\n",
       "      <td>128.410004</td>\n",
       "      <td>128.720001</td>\n",
       "      <td>125.010002</td>\n",
       "      <td>125.120003</td>\n",
       "      <td>102015300</td>\n",
       "    </tr>\n",
       "    <tr>\n",
       "      <th>2021-03-03</th>\n",
       "      <td>124.809998</td>\n",
       "      <td>125.709999</td>\n",
       "      <td>121.839996</td>\n",
       "      <td>122.059998</td>\n",
       "      <td>112430400</td>\n",
       "    </tr>\n",
       "    <tr>\n",
       "      <th>2021-03-04</th>\n",
       "      <td>121.750000</td>\n",
       "      <td>123.599998</td>\n",
       "      <td>118.620003</td>\n",
       "      <td>120.129997</td>\n",
       "      <td>177275300</td>\n",
       "    </tr>\n",
       "    <tr>\n",
       "      <th>2021-03-05</th>\n",
       "      <td>120.980003</td>\n",
       "      <td>121.940002</td>\n",
       "      <td>117.570000</td>\n",
       "      <td>121.419998</td>\n",
       "      <td>153590400</td>\n",
       "    </tr>\n",
       "  </tbody>\n",
       "</table>\n",
       "</div>"
      ],
      "text/plain": [
       "                  Open        High         Low       Close     Volume\n",
       "Date                                                                 \n",
       "2021-03-01  123.750000  127.930000  122.790001  127.790001  115998300\n",
       "2021-03-02  128.410004  128.720001  125.010002  125.120003  102015300\n",
       "2021-03-03  124.809998  125.709999  121.839996  122.059998  112430400\n",
       "2021-03-04  121.750000  123.599998  118.620003  120.129997  177275300\n",
       "2021-03-05  120.980003  121.940002  117.570000  121.419998  153590400"
      ]
     },
     "execution_count": 41,
     "metadata": {},
     "output_type": "execute_result"
    }
   ],
   "source": [
    "dataset_test.head()"
   ]
  },
  {
   "cell_type": "code",
   "execution_count": 43,
   "metadata": {},
   "outputs": [
    {
     "name": "stdout",
     "output_type": "stream",
     "text": [
      "<class 'pandas.core.frame.DataFrame'>\n",
      "DatetimeIndex: 20 entries, 2021-03-01 to 2021-03-26\n",
      "Data columns (total 5 columns):\n",
      "Open      20 non-null float64\n",
      "High      20 non-null float64\n",
      "Low       20 non-null float64\n",
      "Close     20 non-null float64\n",
      "Volume    20 non-null int64\n",
      "dtypes: float64(4), int64(1)\n",
      "memory usage: 960.0 bytes\n"
     ]
    }
   ],
   "source": [
    "dataset_test.info()"
   ]
  },
  {
   "cell_type": "code",
   "execution_count": 44,
   "metadata": {},
   "outputs": [],
   "source": [
    "dataset_test[\"Volume\"] = dataset_test[\"Volume\"].astype(str).str.replace(',', '').astype(float)"
   ]
  },
  {
   "cell_type": "code",
   "execution_count": 45,
   "metadata": {},
   "outputs": [],
   "source": [
    "test_set=dataset_test['Open']\n",
    "test_set=pd.DataFrame(test_set)"
   ]
  },
  {
   "cell_type": "code",
   "execution_count": 46,
   "metadata": {},
   "outputs": [
    {
     "name": "stdout",
     "output_type": "stream",
     "text": [
      "<class 'pandas.core.frame.DataFrame'>\n",
      "DatetimeIndex: 20 entries, 2021-03-01 to 2021-03-26\n",
      "Data columns (total 1 columns):\n",
      "Open    20 non-null float64\n",
      "dtypes: float64(1)\n",
      "memory usage: 320.0 bytes\n"
     ]
    }
   ],
   "source": [
    "test_set.info()"
   ]
  },
  {
   "cell_type": "code",
   "execution_count": 55,
   "metadata": {},
   "outputs": [
    {
     "data": {
      "text/html": [
       "<div>\n",
       "<style scoped>\n",
       "    .dataframe tbody tr th:only-of-type {\n",
       "        vertical-align: middle;\n",
       "    }\n",
       "\n",
       "    .dataframe tbody tr th {\n",
       "        vertical-align: top;\n",
       "    }\n",
       "\n",
       "    .dataframe thead th {\n",
       "        text-align: right;\n",
       "    }\n",
       "</style>\n",
       "<table border=\"1\" class=\"dataframe\">\n",
       "  <thead>\n",
       "    <tr style=\"text-align: right;\">\n",
       "      <th></th>\n",
       "      <th>Open</th>\n",
       "    </tr>\n",
       "    <tr>\n",
       "      <th>Date</th>\n",
       "      <th></th>\n",
       "    </tr>\n",
       "  </thead>\n",
       "  <tbody>\n",
       "    <tr>\n",
       "      <th>2021-03-01</th>\n",
       "      <td>123.750000</td>\n",
       "    </tr>\n",
       "    <tr>\n",
       "      <th>2021-03-02</th>\n",
       "      <td>128.410004</td>\n",
       "    </tr>\n",
       "    <tr>\n",
       "      <th>2021-03-03</th>\n",
       "      <td>124.809998</td>\n",
       "    </tr>\n",
       "    <tr>\n",
       "      <th>2021-03-04</th>\n",
       "      <td>121.750000</td>\n",
       "    </tr>\n",
       "    <tr>\n",
       "      <th>2021-03-05</th>\n",
       "      <td>120.980003</td>\n",
       "    </tr>\n",
       "    <tr>\n",
       "      <th>2021-03-08</th>\n",
       "      <td>120.930000</td>\n",
       "    </tr>\n",
       "    <tr>\n",
       "      <th>2021-03-09</th>\n",
       "      <td>119.029999</td>\n",
       "    </tr>\n",
       "    <tr>\n",
       "      <th>2021-03-10</th>\n",
       "      <td>121.690002</td>\n",
       "    </tr>\n",
       "    <tr>\n",
       "      <th>2021-03-11</th>\n",
       "      <td>122.540001</td>\n",
       "    </tr>\n",
       "    <tr>\n",
       "      <th>2021-03-12</th>\n",
       "      <td>120.400002</td>\n",
       "    </tr>\n",
       "    <tr>\n",
       "      <th>2021-03-15</th>\n",
       "      <td>121.410004</td>\n",
       "    </tr>\n",
       "    <tr>\n",
       "      <th>2021-03-16</th>\n",
       "      <td>125.699997</td>\n",
       "    </tr>\n",
       "    <tr>\n",
       "      <th>2021-03-17</th>\n",
       "      <td>124.050003</td>\n",
       "    </tr>\n",
       "    <tr>\n",
       "      <th>2021-03-18</th>\n",
       "      <td>122.879997</td>\n",
       "    </tr>\n",
       "    <tr>\n",
       "      <th>2021-03-19</th>\n",
       "      <td>119.900002</td>\n",
       "    </tr>\n",
       "    <tr>\n",
       "      <th>2021-03-22</th>\n",
       "      <td>120.330002</td>\n",
       "    </tr>\n",
       "    <tr>\n",
       "      <th>2021-03-23</th>\n",
       "      <td>123.330002</td>\n",
       "    </tr>\n",
       "    <tr>\n",
       "      <th>2021-03-24</th>\n",
       "      <td>122.820000</td>\n",
       "    </tr>\n",
       "    <tr>\n",
       "      <th>2021-03-25</th>\n",
       "      <td>119.540001</td>\n",
       "    </tr>\n",
       "    <tr>\n",
       "      <th>2021-03-26</th>\n",
       "      <td>120.349998</td>\n",
       "    </tr>\n",
       "  </tbody>\n",
       "</table>\n",
       "</div>"
      ],
      "text/plain": [
       "                  Open\n",
       "Date                  \n",
       "2021-03-01  123.750000\n",
       "2021-03-02  128.410004\n",
       "2021-03-03  124.809998\n",
       "2021-03-04  121.750000\n",
       "2021-03-05  120.980003\n",
       "2021-03-08  120.930000\n",
       "2021-03-09  119.029999\n",
       "2021-03-10  121.690002\n",
       "2021-03-11  122.540001\n",
       "2021-03-12  120.400002\n",
       "2021-03-15  121.410004\n",
       "2021-03-16  125.699997\n",
       "2021-03-17  124.050003\n",
       "2021-03-18  122.879997\n",
       "2021-03-19  119.900002\n",
       "2021-03-22  120.330002\n",
       "2021-03-23  123.330002\n",
       "2021-03-24  122.820000\n",
       "2021-03-25  119.540001\n",
       "2021-03-26  120.349998"
      ]
     },
     "execution_count": 55,
     "metadata": {},
     "output_type": "execute_result"
    }
   ],
   "source": [
    "test_set"
   ]
  },
  {
   "cell_type": "code",
   "execution_count": 47,
   "metadata": {},
   "outputs": [],
   "source": [
    "# Getting the predicted stock price of 2017\n",
    "dataset_total = pd.concat((dataset['Open'], dataset_test['Open']), axis = 0)\n",
    "inputs = dataset_total[len(dataset_total) - len(dataset_test) - 60:].values\n",
    "inputs = inputs.reshape(-1,1)\n",
    "inputs = sc.transform(inputs)\n",
    "X_test = []\n",
    "for i in range(60, 80):\n",
    "    X_test.append(inputs[i-60:i, 0])\n",
    "X_test = np.array(X_test)\n",
    "X_test = np.reshape(X_test, (X_test.shape[0], X_test.shape[1], 1))\n",
    "predicted_stock_price = regressor.predict(X_test)\n",
    "predicted_stock_price = sc.inverse_transform(predicted_stock_price)"
   ]
  },
  {
   "cell_type": "code",
   "execution_count": 48,
   "metadata": {},
   "outputs": [
    {
     "name": "stdout",
     "output_type": "stream",
     "text": [
      "<class 'pandas.core.frame.DataFrame'>\n",
      "RangeIndex: 20 entries, 0 to 19\n",
      "Data columns (total 1 columns):\n",
      "0    20 non-null float32\n",
      "dtypes: float32(1)\n",
      "memory usage: 160.0 bytes\n"
     ]
    }
   ],
   "source": [
    "predicted_stock_price=pd.DataFrame(predicted_stock_price)\n",
    "predicted_stock_price.info()"
   ]
  },
  {
   "cell_type": "code",
   "execution_count": 54,
   "metadata": {},
   "outputs": [
    {
     "data": {
      "image/png": "[encoded data removed]",
      "text/plain": [
       "<Figure size 432x288 with 1 Axes>"
      ]
     },
     "metadata": {
      "needs_background": "light"
     },
     "output_type": "display_data"
    }
   ],
   "source": [
    "\n",
    "# Visualising the results\n",
    "plt.plot(real_stock_price, color = 'red', label = 'Real Stock Price')\n",
    "plt.plot(predicted_stock_price, color = 'blue', label = 'Predicted Stock Price')\n",
    "plt.title('Stock Price Prediction')\n",
    "plt.xlabel('Time')\n",
    "plt.ylabel('Stock Price')\n",
    "plt.legend()\n",
    "plt.show()\n"
   ]
  },
  {
   "cell_type": "code",
   "execution_count": null,
   "metadata": {},
   "outputs": [],
   "source": []
  }
 ],
 "metadata": {
  "kernelspec": {
   "display_name": "Python 3",
   "language": "python",
   "name": "python3"
  },
  "language_info": {
   "codemirror_mode": {
    "name": "ipython",
    "version": 3
   },
   "file_extension": ".py",
   "mimetype": "text/x-python",
   "name": "python",
   "nbconvert_exporter": "python",
   "pygments_lexer": "ipython3",
   "version": "3.7.1"
  }
 },
 "nbformat": 4,
 "nbformat_minor": 2
}
